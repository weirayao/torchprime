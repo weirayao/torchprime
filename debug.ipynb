{
 "cells": [
  {
   "cell_type": "code",
   "execution_count": 1,
   "metadata": {},
   "outputs": [
    {
     "name": "stderr",
     "output_type": "stream",
     "text": [
      "/home/haolin.chen/torchprime/venv/lib/python3.10/site-packages/tqdm/auto.py:21: TqdmWarning: IProgress not found. Please update jupyter and ipywidgets. See https://ipywidgets.readthedocs.io/en/stable/user_install.html\n",
      "  from .autonotebook import tqdm as notebook_tqdm\n"
     ]
    }
   ],
   "source": [
    "import os\n",
    "from datasets import load_dataset, load_from_disk\n",
    "from datasets.distributed import split_dataset_by_node\n",
    "from glob import glob"
   ]
  },
  {
   "cell_type": "code",
   "execution_count": 2,
   "metadata": {},
   "outputs": [
    {
     "data": {
      "text/plain": [
       "['DM_Mathematics',\n",
       " 'Falcon-refinedweb',\n",
       " 'Gutenberg',\n",
       " 'RedPajama',\n",
       " 'RedPajama_math',\n",
       " 'Redpajama-Arxiv',\n",
       " 'Wikipedia_en',\n",
       " 'c4_2023-14',\n",
       " 'cosmopedia_v2_parquet',\n",
       " 'dclm-baseline-1.0-shuffled',\n",
       " 'fineweb_edu_dedup',\n",
       " 'open-web-math',\n",
       " 'python_edu',\n",
       " 'stackv2_Python_shuffled',\n",
       " 'the-stack-v2-train-smol']"
      ]
     },
     "execution_count": 2,
     "metadata": {},
     "output_type": "execute_result"
    }
   ],
   "source": [
    "dataset_names = [f.split(\"/\")[-1] for f in glob(\"/home/haolin.chen/sfr-tpu-us-central2-research/b.pang/cl_data/xgen3_3b_config_6_1/*\")]\n",
    "dataset_names"
   ]
  },
  {
   "cell_type": "code",
   "execution_count": 3,
   "metadata": {},
   "outputs": [
    {
     "name": "stdout",
     "output_type": "stream",
     "text": [
      "DM_Mathematics: ['.json'] (42 files)\n",
      "Falcon-refinedweb: ['.json'] (1251 files)\n",
      "Gutenberg: ['.json'] (110 files)\n",
      "RedPajama: ['.json'] (1005 files)\n",
      "RedPajama_math: ['.json'] (1668 files)\n",
      "Redpajama-Arxiv: ['.json'] (216 files)\n",
      "Wikipedia_en: ['.json'] (194 files)\n",
      "c4_2023-14: ['.json'] (5001 files)\n",
      "cosmopedia_v2_parquet: ['.parquet'] (104 files)\n",
      "dclm-baseline-1.0-shuffled: ['.json'] (1001 files)\n",
      "fineweb_edu_dedup: ['.parquet'] (234 files)\n",
      "open-web-math: ['.json'] (418 files)\n",
      "python_edu: ['.jsonl'] (63 files)\n",
      "stackv2_Python_shuffled: ['.json'] (513 files)\n",
      "the-stack-v2-train-smol: ['.json'] (838 files)\n"
     ]
    }
   ],
   "source": [
    "# Scan files to determine data types for each dataset\n",
    "dataset_types = {}\n",
    "\n",
    "for dataset_name in dataset_names:\n",
    "    dataset_path = f\"/home/haolin.chen/sfr-text-diffusion-model-research/data/xgen_cleaned_data/{dataset_name}\"\n",
    "    files = glob(f\"{dataset_path}/*\")\n",
    "    \n",
    "    if files:\n",
    "        # Get file extensions\n",
    "        extensions = set()\n",
    "        for file in files[:10]:  # Check first 10 files\n",
    "            if os.path.isfile(file):\n",
    "                ext = os.path.splitext(file)[1]\n",
    "                if ext:\n",
    "                    extensions.add(ext)\n",
    "        \n",
    "        print(f\"{dataset_name}: {list(extensions)} ({len(files)} files)\")\n",
    "        extension = list(extensions)[0]\n",
    "        match extension:\n",
    "            case \".jsonl\":\n",
    "                dataset_types[dataset_name] = (extension, \"json\")\n",
    "            case \".json\":\n",
    "                dataset_types[dataset_name] = (extension, \"json\")\n",
    "            case \".parquet\":\n",
    "                dataset_types[dataset_name] = (extension, \"parquet\")\n",
    "    else:\n",
    "        print(f\"{dataset_name}: No files found\")"
   ]
  },
  {
   "cell_type": "code",
   "execution_count": 4,
   "metadata": {},
   "outputs": [
    {
     "data": {
      "text/plain": [
       "{'DM_Mathematics': ('.json', 'json'),\n",
       " 'Falcon-refinedweb': ('.json', 'json'),\n",
       " 'Gutenberg': ('.json', 'json'),\n",
       " 'RedPajama': ('.json', 'json'),\n",
       " 'RedPajama_math': ('.json', 'json'),\n",
       " 'Redpajama-Arxiv': ('.json', 'json'),\n",
       " 'Wikipedia_en': ('.json', 'json'),\n",
       " 'c4_2023-14': ('.json', 'json'),\n",
       " 'cosmopedia_v2_parquet': ('.parquet', 'parquet'),\n",
       " 'dclm-baseline-1.0-shuffled': ('.json', 'json'),\n",
       " 'fineweb_edu_dedup': ('.parquet', 'parquet'),\n",
       " 'open-web-math': ('.json', 'json'),\n",
       " 'python_edu': ('.jsonl', 'json'),\n",
       " 'stackv2_Python_shuffled': ('.json', 'json'),\n",
       " 'the-stack-v2-train-smol': ('.json', 'json')}"
      ]
     },
     "execution_count": 4,
     "metadata": {},
     "output_type": "execute_result"
    }
   ],
   "source": [
    "dataset_types"
   ]
  },
  {
   "cell_type": "code",
   "execution_count": 6,
   "metadata": {},
   "outputs": [
    {
     "name": "stdout",
     "output_type": "stream",
     "text": [
      "DM_Mathematics IterableDataset({\n",
      "    features: Unknown,\n",
      "    n_shards: 1\n",
      "}) dict_keys(['text']) {'text': 'est common divisor of 6 and s.\\n6\\nLet a be 6/(-4) - (0 - 52/8). Suppose a*f + 50 = -2*q + 4*q, -2*q - 3*f = -50. Calculate the highest common factor of 10 and q.\\n5\\nSuppose 2*n + 4*p - 2769 = -3*n, 2*n - 1109 = -3*p. Let z = -238 + n. What is the highest common divisor of 35 and z?\\n35\\nSuppose 289 = 4*z - 287. Suppose 2*x - 18 = z. What is the highest common divisor of 54 and x?\\n27\\nLet y be (-10)/(40/(-658)) + 1/2. What is the greatest common divisor of y and 60?\\n15\\nLet h = 21790 + -21510. Let b = 9 + 31. Calculate the greatest common divisor of h and b.\\n40\\nLet p be 27 + (-2)/3*3. Suppose -5*z + 137 + 1154 = 4*g, -4*g - 1004 = -4*z. Let m = z + -55. What is the greatest common factor of p and m?\\n25\\nLet b be (-2 - (-1364)/22) + -13. Let y be -2*(-518)/2 + -1. Calculate the highest common divisor of b and y.\\n47\\nSuppose 0*k = 3*k + 15, 3*m + 4*k - 97 = 0. Let w = -2963 + 3041. What is the greatest common factor of m and w?\\n39\\nLet u be (2 - (-1)/3)/((-20)/(-660)). Calculate the greatest common factor of u and 168.\\n7\\nLet k(i) = -i**3 + 11*i**2 + 80*i + 5. Let q be k(-5). Let m(x) = 64*x - 230. Let o be m(q). Calculate the highest common factor of 450 and o.\\n90\\nSuppose -6*s + s + 163 = -2*i, -i + 67 = 2*s. Calculate the greatest common divisor of 393 and s.\\n3\\nLet y be 154/33*(-465)/(-35). Calculate the greatest common factor of 682 and y.\\n62\\nLet c be ((-238)/153)/((-2)/18). Let k be ((-14)/6)/((-2058)/684 - -3). What is the greatest common factor of k and c?\\n14\\nLet a be 5/(-35) - (26990/(-35))/1. What is the greatest common factor of 3 and a?\\n3\\nLet a = -135003 - -135010. Suppose -2 = -3*n + 1. Calculate the greatest common divisor of a and n.\\n1\\nLet g = 20 + 30. Let h be 74*(-5)/30*-3 + -7. What is the highest common factor of h and g?\\n10\\nLet d(b) = 3*b**2 - 17*b + 37. Let t be d(2). Suppose 18 = u - 24. What is the greatest common divisor of u and t?\\n3\\nSuppose n - 26 = -5*v, 0*v = -4*v + 20. Let g be 6/2*1/n. Suppose 3*f - 140 = -d - 3*d, -g*d = 5*f - 226. Calculate the greatest common divisor of 396 and f.\\n44\\nLet d = -5762 - -6119. Calculate the greatest common divisor of d and 84.\\n21\\nLet i be 232*(0 - (3 + -6)). Suppose 36*y - 122*y + 2064 = 0. Calculate the greatest common factor of y and i.\\n24\\nLet c be (-13375)/(-250) + (-5)/2. What is the highest common divisor of c and 5797?\\n17\\nLet r = -462 + 368. Let l = 712 - r. What is the greatest common factor of 62 and l?\\n62\\nLet a(d) = 3*d**2 + 81*d + 836. Let i be a(-11). What is the highest common factor of i and 10318?\\n154\\nLet s(v) = 6400*v**2 + 49*v + 49. Let p be s(-1). What is the greatest common factor of p and 25?\\n25\\nSuppose -25*i = -21*i - 332. Suppose i*y - 18 = 86*y. Let x(u) = u**2 - 11*u - 15. Let c be x(y). Calculate the greatest common factor of 58 and c.\\n29\\nSuppose 15 = -2*u - 5*g, 427*g - 40 = -5*u + 430*g. Calculate the highest common divisor of u and 15.\\n5\\nSuppose -3*c + 6*c = -4*g + 581, c - 167 = 4*g. Let r = c - 52. Calculate the greatest common factor of r and 90.\\n45\\nLet m(f) = f**3 - 3*f**2 - 8*f + 24. Let j(c) = 12*c + 172. Let l be j(-14). Let n be m(l). Calculate the greatest common factor of n and 2.\\n2\\nLet o be ((-41168)/32)/31*(-7)/((-28)/(-24)). What is the greatest common factor of o and 13529?\\n83\\nSuppose 16*u + 1364 = 92*u - 2360. What is the highest common divisor of 1323 and u?\\n49\\nLet u(y) = -y**2 - 25*y - 58. Let v be u(-4). Let p(f) = -2*f + 64. Let r be p(v). What is the highest common factor of 1236 and r?\\n12\\nLet g(c) = 16*c + 9. Suppose 3*f - 2*f = 9. Suppose 3*d - f = 9. Let h be g(d). Calculate the highest common divisor of 21 and h.\\n21\\nLet w(m) = -4*m**2 + 32*m - 7. Let z be w(7). Suppose x - 4*a = 185, 0*x + a - 757 = -4*x. Calculate the highest common factor of x and z.\\n21\\nLet s(g) = -6*g**3 - 4*g**3 + 1 + g**2 + 9*g**3 - 2*g**2 + 6*g. Let j be s(4). Let a = -36 - j. Calculate the highest common divisor of a and 133.\\n19\\nSuppose 155*d - 2106 = 146*d. What is the greatest common divisor of 1998 and d?\\n18\\nSuppose 0 = 202*b + 4415 - 41381. What is the greatest common factor of 5673 and b?\\n183\\nLet t(r) = 5*r - 35. Let p be t(10). Suppose 0 = -36*b + p*b + 777. Calculate the highest common factor of 333 and b.\\n37\\nSuppose 3*z - 125*u = -123*u + 5906, -3*z + 5914 = 2*u. Calculate the highest common factor of 10 and z.\\n10\\nLet f = 3567 + -3431. Calculate the highest common divisor of f and 697.\\n17\\nSuppose 57*q - 128*q = 399*q - 2820. Calculate the greatest common divisor of 777 and q.\\n3\\nLet l(w) = -5*w**2 - w. Let k be l(-1). Let y be (52*-40)/k + -1. Suppose -8*u + y - 135 = 0. Calculate the greatest common divisor of 6 and u.\\n6\\nSuppose -880 = 189*m - 101*m - 98*m. What is the greatest common factor of 3487 and m?\\n11\\nLet n(h) = -37*h - 14. Let x be n(-3). Suppose -95*y - 12 = -x*y. Suppose -9*d = -y*d - 180. Calculate the greatest common factor of d and 15.\\n15\\nSuppose -244*r - 7326742 = -409*r - 272*r. Calculate the highest common factor of r and 332.\\n166\\nSuppose 2*q = 1065 + 15. Suppose -249*o + 862 = -250*o. Let f = o - -922. What is the greatest common factor of q and f?\\n60\\nLet o = -51 + 59. Suppose o*n + 82 = 538. Calculate the greatest common divisor of n and 38.\\n19\\nLet v = 93 - 51. Suppose 0 = -10*z - 60 + 420. Suppose -z - 48 = -6*t. Calculate the highest common divisor of v and t.\\n14\\nSuppose -2*c + 48 = 2*w - 6*w, 3*c - 67 = w. Suppose c = 2*h - 2*z, -7*z + 17 = 4*h - 2*z. What is the highest common divisor of 72 and h?\\n8\\nSuppose 16 + 0 = g. Suppose 9*k - 4*k - 4*t - 480 = 0, 2*k - 3*t - 199 = 0. Suppose 3*c - 26*c = -k. Calculate the greatest common divisor of g and c.\\n4\\nSuppose 60*z - 58*z + 5*a - 1075 = 0, 4*a + 2164 = 4*z. Calculate the highest common divisor of z and 660.\\n60\\nSuppose 0 = -h - 48 + 50. Suppose -5*x = -h*x - 60. What is the greatest common factor of 5 and x?\\n5\\nSuppose 4*o + 5 = 21. Suppose 0 = 5*w - j - 183, 111 = o*w - j - 35. What is the greatest common factor of w and 222?\\n37\\nLet d(q) be the first derivative of 7*q**3/3 - 5*q**2/2 - 7*q + 32. Let j be d(-2). What is the highest common divisor of j and 155?\\n31\\nSuppose 49 - 33 = 2*q. Let y = -29 + q. Let i(z) = z + 38. Let l be i(y). Calculate the highest common divisor of l and 85.\\n17\\nSuppose 4*v + 5*u = 1164, 0 = 4*v + 2*u + u - 1156. Suppose 7*m = 50*m - 1892. What is the greatest common divisor of m and v?\\n22\\nSuppose -485164 + 145132 = -224*g. Calculate the greatest common factor of g and 176.\\n22\\nSuppose 5*p = -0*p - 300. Let s = 431 + p. Let n be s/21 + 1/3. Calculate the greatest common factor of 9 and n.\\n9\\nSuppose 10*n = 13*n - 48. Let a = 3018 + -3015. What is the greatest common divisor of a and n?\\n1\\nLet t(z) = z**3 - z**2 - 3*z - 3. Let i be t(0). Let p be (19/(-2))/((i/2)/3). Let n = p - 3. What is the highest common divisor of 16 and n?\\n16\\nSuppose -15638*s = -15618*s - 112600. Calculate the highest common divisor of 10 and s.\\n10\\nLet f be (-19929)/(15/(-6)*13/65*2). Calculate the highest common divisor of 182 and f.\\n91\\nLet l(p) = -2*p - 27. Let j be l(-6). Let g(b) = -b**2 - 25*b - 134. Let f be g(j). What is the greatest common divisor of 80 and f?\\n16\\nLet n be (22 - 1)*858/1001. Let l(u) = u + 8. Let q be l(-6). Calculate the greatest common factor of q and n.\\n2\\nLet u be -5*(-24)/(-40)*15. Let q(w) = w**3 + 46*w**2 + 45*w + 11. Let g be q(u). Calculate the greatest common divisor of 11 and g.\\n11\\nLet u be -2*1 + 41 + -2. Let r = 61 - u. Suppose 18*z - 896 = -464. What is the greatest common divisor of r and z?\\n24\\nLet r be ((-290)/(-30) - 10)/(5/(-720)). Suppose -4*q + 2*m = -434, 2*m = 5*q - 0*m - 542. What is the highest common factor of q and r?\\n12\\nLet x = 2312 + -2310. Let m = -1 + 5. Calculate the highest common factor of x and m.\\n2\\nSuppose -4*v = 2*m - 196, -3*v - m = -4*m - 156. Suppose -4*z = -4*i - 216, z - 4*i = -5*i + v. Calculate the greatest common divisor of 16 and z.\\n4\\nLet j = -1961 - -1992. Suppose 0 - 31 = -w. Calculate the greatest common factor of w and j.\\n31\\nLet p = 1653 + -1112. Let j = p + -522. Calculate the greatest common divisor of j and 893.\\n19\\nLet c be (-34)/(-85) - (-2)/(-5). Suppose 11*o = -c*o + 1089. What is the highest common divisor of 27 and o?\\n9\\nLet b = -33564 - -33684. What is the greatest common divisor of 654 and b?\\n6\\nSuppose 197 = -3*p + r, '}\n",
      "--------------------------------\n"
     ]
    }
   ],
   "source": [
    "datasets = {}\n",
    "for dataset_name, (extention, dataset_type) in dataset_types.items():\n",
    "    files = glob(f\"/home/haolin.chen/sfr-text-diffusion-model-research/data/xgen_cleaned_data/{dataset_name}/*{extention}\")\n",
    "    try:\n",
    "        datasets[dataset_name] = load_dataset(dataset_type, data_files=files[:1], streaming=True, split=\"train\")\n",
    "        iterator = iter(datasets[dataset_name])\n",
    "        row = next(iterator)\n",
    "        print(dataset_name, datasets[dataset_name], row.keys(), row)\n",
    "        print(\"--------------------------------\")\n",
    "    except Exception as e:\n",
    "        print(f\"{dataset_name}: {e}\")\n",
    "    break"
   ]
  },
  {
   "cell_type": "code",
   "execution_count": null,
   "metadata": {},
   "outputs": [],
   "source": [
    "def add_prefix(examples):\n",
    "    examples[\"prefixed_text\"] = examples[\"text\"]\n",
    "    return examples\n",
    "mapped_datasets = datasets[\"DM_Mathematics\"].map(add_prefix, batched=True, remove_columns=[\"text\"])"
   ]
  },
  {
   "cell_type": "code",
   "execution_count": 13,
   "metadata": {},
   "outputs": [
    {
     "ename": "TypeError",
     "evalue": "can only concatenate str (not \"list\") to str",
     "output_type": "error",
     "traceback": [
      "\u001b[0;31m---------------------------------------------------------------------------\u001b[0m",
      "\u001b[0;31mTypeError\u001b[0m                                 Traceback (most recent call last)",
      "Cell \u001b[0;32mIn[13], line 1\u001b[0m\n\u001b[0;32m----> 1\u001b[0m \u001b[38;5;28;43mlist\u001b[39;49m\u001b[43m(\u001b[49m\u001b[43mmapped_datasets\u001b[49m\u001b[38;5;241;43m.\u001b[39;49m\u001b[43mtake\u001b[49m\u001b[43m(\u001b[49m\u001b[38;5;241;43m3\u001b[39;49m\u001b[43m)\u001b[49m\u001b[43m)\u001b[49m\n",
      "File \u001b[0;32m~/torchprime/venv/lib/python3.10/site-packages/datasets/iterable_dataset.py:2012\u001b[0m, in \u001b[0;36mIterableDataset.__iter__\u001b[0;34m(self)\u001b[0m\n\u001b[1;32m   2009\u001b[0m         \u001b[38;5;28;01myield\u001b[39;00m formatter\u001b[38;5;241m.\u001b[39mformat_row(pa_table)\n\u001b[1;32m   2010\u001b[0m     \u001b[38;5;28;01mreturn\u001b[39;00m\n\u001b[0;32m-> 2012\u001b[0m \u001b[38;5;28;01mfor\u001b[39;00m key, example \u001b[38;5;129;01min\u001b[39;00m ex_iterable:\n\u001b[1;32m   2013\u001b[0m     \u001b[38;5;28;01mif\u001b[39;00m \u001b[38;5;28mself\u001b[39m\u001b[38;5;241m.\u001b[39mfeatures:\n\u001b[1;32m   2014\u001b[0m         \u001b[38;5;66;03m# `IterableDataset` automatically fills missing columns with None.\u001b[39;00m\n\u001b[1;32m   2015\u001b[0m         \u001b[38;5;66;03m# This is done with `_apply_feature_types_on_example`.\u001b[39;00m\n\u001b[1;32m   2016\u001b[0m         example \u001b[38;5;241m=\u001b[39m _apply_feature_types_on_example(\n\u001b[1;32m   2017\u001b[0m             example, \u001b[38;5;28mself\u001b[39m\u001b[38;5;241m.\u001b[39mfeatures, token_per_repo_id\u001b[38;5;241m=\u001b[39m\u001b[38;5;28mself\u001b[39m\u001b[38;5;241m.\u001b[39m_token_per_repo_id\n\u001b[1;32m   2018\u001b[0m         )\n",
      "File \u001b[0;32m~/torchprime/venv/lib/python3.10/site-packages/datasets/iterable_dataset.py:1507\u001b[0m, in \u001b[0;36mTakeExamplesIterable.__iter__\u001b[0;34m(self)\u001b[0m\n\u001b[1;32m   1505\u001b[0m \u001b[38;5;28;01mdef\u001b[39;00m\u001b[38;5;250m \u001b[39m\u001b[38;5;21m__iter__\u001b[39m(\u001b[38;5;28mself\u001b[39m):\n\u001b[1;32m   1506\u001b[0m     ex_iterable_num_taken \u001b[38;5;241m=\u001b[39m \u001b[38;5;28mself\u001b[39m\u001b[38;5;241m.\u001b[39m_state_dict[\u001b[38;5;124m\"\u001b[39m\u001b[38;5;124mnum_taken\u001b[39m\u001b[38;5;124m\"\u001b[39m] \u001b[38;5;28;01mif\u001b[39;00m \u001b[38;5;28mself\u001b[39m\u001b[38;5;241m.\u001b[39m_state_dict \u001b[38;5;28;01melse\u001b[39;00m \u001b[38;5;241m0\u001b[39m\n\u001b[0;32m-> 1507\u001b[0m     \u001b[38;5;28;01mfor\u001b[39;00m key_example \u001b[38;5;129;01min\u001b[39;00m islice(\u001b[38;5;28mself\u001b[39m\u001b[38;5;241m.\u001b[39mex_iterable, \u001b[38;5;28mself\u001b[39m\u001b[38;5;241m.\u001b[39mn \u001b[38;5;241m-\u001b[39m ex_iterable_num_taken):\n\u001b[1;32m   1508\u001b[0m         \u001b[38;5;28;01mif\u001b[39;00m \u001b[38;5;28mself\u001b[39m\u001b[38;5;241m.\u001b[39m_state_dict:\n\u001b[1;32m   1509\u001b[0m             \u001b[38;5;28mself\u001b[39m\u001b[38;5;241m.\u001b[39m_state_dict[\u001b[38;5;124m\"\u001b[39m\u001b[38;5;124mnum_taken\u001b[39m\u001b[38;5;124m\"\u001b[39m] \u001b[38;5;241m+\u001b[39m\u001b[38;5;241m=\u001b[39m \u001b[38;5;241m1\u001b[39m\n",
      "File \u001b[0;32m~/torchprime/venv/lib/python3.10/site-packages/datasets/iterable_dataset.py:947\u001b[0m, in \u001b[0;36mMappedExamplesIterable.__iter__\u001b[0;34m(self)\u001b[0m\n\u001b[1;32m    945\u001b[0m         \u001b[38;5;28;01myield\u001b[39;00m key, formatter\u001b[38;5;241m.\u001b[39mformat_row(pa_table)\n\u001b[1;32m    946\u001b[0m \u001b[38;5;28;01melse\u001b[39;00m:\n\u001b[0;32m--> 947\u001b[0m     \u001b[38;5;28;01myield from\u001b[39;00m \u001b[38;5;28mself\u001b[39m\u001b[38;5;241m.\u001b[39m_iter()\n",
      "File \u001b[0;32m~/torchprime/venv/lib/python3.10/site-packages/datasets/iterable_dataset.py:995\u001b[0m, in \u001b[0;36mMappedExamplesIterable._iter\u001b[0;34m(self)\u001b[0m\n\u001b[1;32m    993\u001b[0m     function_args\u001b[38;5;241m.\u001b[39mappend([current_idx \u001b[38;5;241m+\u001b[39m i \u001b[38;5;28;01mfor\u001b[39;00m i \u001b[38;5;129;01min\u001b[39;00m \u001b[38;5;28mrange\u001b[39m(\u001b[38;5;28mlen\u001b[39m(key_examples_list))])\n\u001b[1;32m    994\u001b[0m transformed_batch \u001b[38;5;241m=\u001b[39m \u001b[38;5;28mdict\u001b[39m(batch)  \u001b[38;5;66;03m# this will be updated with the function output\u001b[39;00m\n\u001b[0;32m--> 995\u001b[0m transformed_batch\u001b[38;5;241m.\u001b[39mupdate(\u001b[38;5;28;43mself\u001b[39;49m\u001b[38;5;241;43m.\u001b[39;49m\u001b[43mfunction\u001b[49m\u001b[43m(\u001b[49m\u001b[38;5;241;43m*\u001b[39;49m\u001b[43mfunction_args\u001b[49m\u001b[43m,\u001b[49m\u001b[43m \u001b[49m\u001b[38;5;241;43m*\u001b[39;49m\u001b[38;5;241;43m*\u001b[39;49m\u001b[38;5;28;43mself\u001b[39;49m\u001b[38;5;241;43m.\u001b[39;49m\u001b[43mfn_kwargs\u001b[49m\u001b[43m)\u001b[49m)\n\u001b[1;32m    996\u001b[0m \u001b[38;5;66;03m# then remove the unwanted columns\u001b[39;00m\n\u001b[1;32m    997\u001b[0m \u001b[38;5;28;01mif\u001b[39;00m \u001b[38;5;28mself\u001b[39m\u001b[38;5;241m.\u001b[39mremove_columns:\n",
      "Cell \u001b[0;32mIn[11], line 2\u001b[0m, in \u001b[0;36madd_prefix\u001b[0;34m(example)\u001b[0m\n\u001b[1;32m      1\u001b[0m \u001b[38;5;28;01mdef\u001b[39;00m\u001b[38;5;250m \u001b[39m\u001b[38;5;21madd_prefix\u001b[39m(example):\n\u001b[0;32m----> 2\u001b[0m     example[\u001b[38;5;124m\"\u001b[39m\u001b[38;5;124mprefixed_text\u001b[39m\u001b[38;5;124m\"\u001b[39m] \u001b[38;5;241m=\u001b[39m \u001b[38;5;124;43m\"\u001b[39;49m\u001b[38;5;124;43mThis is a test:\u001b[39;49m\u001b[38;5;124;43m\"\u001b[39;49m\u001b[43m \u001b[49m\u001b[38;5;241;43m+\u001b[39;49m\u001b[43m \u001b[49m\u001b[43mexample\u001b[49m\u001b[43m[\u001b[49m\u001b[38;5;124;43m\"\u001b[39;49m\u001b[38;5;124;43mtext\u001b[39;49m\u001b[38;5;124;43m\"\u001b[39;49m\u001b[43m]\u001b[49m\n\u001b[1;32m      3\u001b[0m     \u001b[38;5;28;01mreturn\u001b[39;00m example\n",
      "\u001b[0;31mTypeError\u001b[0m: can only concatenate str (not \"list\") to str"
     ]
    }
   ],
   "source": [
    "list(mapped_datasets.take(3))"
   ]
  },
  {
   "cell_type": "code",
   "execution_count": 9,
   "metadata": {},
   "outputs": [
    {
     "name": "stdout",
     "output_type": "stream",
     "text": [
      " In today's ever-evolving world, technology has become an integral part of our lives, shaping the way we learn, work, and communicate. The COVID-19 pandemic has only accelerated this trend, forcing educational institutions worldwide to adapt quickly to remote learning models. As such, social studies integration in elementary education can greatly benefit from incorporating digital tools like those offered by Ruangguru's Online School. Let's explore how educators can effectively leverage these resources to create engaging and meaningful learning experiences for young students.\n",
      "\n",
      "Firstly, let's define what we mean by social studies integration. Social studies encompasses various disciplines that help students understand their communities, societies, and the wider world around them. These subjects may include history, geography, civics, economics, sociology, and anthropology. By integrating social studies into the curriculum, we aim to foster critical thinking skills, promote cultural awareness, and encourage responsible citizenship among students. Now, let's see how Ruangguru's Online School supports these goals.\n",
      "\n",
      "Ruangguru's Online School offers a wealth of opportunities for elementary students to engage with social studies topics in a dynamic and interactive manner. For instance, instead of simply reading about historical events or figures, students can participate in virtual simulations where they assume roles within specific time periods or cultures. Such immersive experiences allow children to connect emotionally with the material while developing essential collaboration and problem-solving abilities.\n",
      "\n",
      "Another significant advantage of utilizing Ruangguru's platform is accessibility. With many schools closed due to the ongoing health crisis, ensuring continuity of learning has become paramount. Through Ruangguru's mobile application, students can access quality instructional materials anytime, anywhere—an especially crucial feature for families without reliable internet connections at home. Moreover, the platform allows teachers to track student progress, enabling them to provide targeted support and intervention when necessary.\n",
      "\n",
      "Furthermore, Ruangguru recognizes the importance of professional development for educators transitioning to remote teaching environments. To facilitate this process, they offer complimentary online teacher training sessions via their app. During these workshops, instructors can share best practices, discuss challenges, and collaborate on innovative strategies for delivering effective social studies lessons in a virtual setting. Additionally, connecting with fellow professionals fosters a sense of community among teachers, helping them feel supported and valued during uncertain times.\n",
      "\n",
      "Moreover, Ruangguru's Online School aligns seamlessly with current trends emphasizing project-based learning (PBL), which encourages students to apply knowledge and skills to solve authentic problems. For example, students might research local environmental issues, analyze data, and propose solutions using multimedia presentations created within the app. PBL approaches not only deepen conceptual understanding but also empower students to take action and contribute positively to their communities.\n",
      "\n",
      "Lastly, Ruangguru's commitment to providing equitable access to quality education resonates strongly with recent calls for social justice reform in education. By offering free resources and training, they democratize learning opportunities, allowing all students to thrive regardless of socioeconomic background. Furthermore, incorporating diverse perspectives and histories into social studies curricula promotes inclusivity and empathy, preparing future generations to navigate an increasingly interconnected global society.\n",
      "\n",
      "In conclusion, harnessing the power of digital platforms like Ruangguru's Online School can significantly enhance social studies integration efforts at the elementary level. Amidst unprecedented challenges brought forth by the COVID-19 pandemic, embracing innovation becomes vital in creating resilient learners who are well-equipped to tackle complex issues facing our world today. Together, let us strive towards cultivating engaged, informed, and compassionate citizens ready to make a difference in their communities and beyond.\n",
      "Here is an extract from a webpage:\n",
      "\"Ruangguru Free Online Schools to Support Students and Teachers\n",
      "Ruangguru re-opened Ruangguru Online School for free through its application. This is a form and effort of Ruangguru in responding to the high need for distance learning facilities (PJJ) during the Covid-19 pandemic.\n",
      "Previously, since March 2020 when learning activities from home were implemented due to Covid-19, Ruangguru has launched the free Ruangguru Online School.\n",
      "In the past school year, the Ruangguru Online School received a positive response with more than 5,000,000 students using it. More than 100,000 teachers have also participated in free online teacher training provided on the Ruangguru app.\n",
      "The enthusiasm of the teachers and students to continue learning inspires us to re-open the Ruangguru Free Online School, “explained Ruangguru’s founder and Chief Director, Belva Devara, as quoted from his official statement on Monday (3/8/2020).\n",
      "Ruangguru Online School 2 for Free\n",
      "Through the Ruangguru 2 Online School progra.\"\n",
      "\n",
      "Write an extensive and detailed course unit in a textbook for college students related to the extract above, focusing on \"Social Studies Integration\" as part of \"EDUCATION / Schools / Levels / Elementary\". Do not just list concepts, but develop each one in detail before moving to the next, as we prioritize depth of understanding and comprehensive exploration of the subject matter over breadth.\n",
      "\n",
      "Try to:\n",
      "\n",
      "- Ensure in-depth coverage of the concepts.\n",
      "- Use a narrative, thought-provoking style.\n",
      "- Connect the topic with current trends, real-life examples, or recent studies.\n",
      "Do not include a title, introductory phrases, or images. Write the content directly.\n"
     ]
    }
   ],
   "source": [
    "row = next(iter(datasets[\"cosmopedia_v2_parquet\"]))\n",
    "print(row[\"text\"])\n",
    "print(row[\"prompt\"])"
   ]
  },
  {
   "cell_type": "code",
   "execution_count": 17,
   "metadata": {},
   "outputs": [],
   "source": [
    "dataset = load_dataset(\"json\", data_files=files, streaming=True, split=\"train\")"
   ]
  },
  {
   "cell_type": "code",
   "execution_count": 18,
   "metadata": {},
   "outputs": [
    {
     "data": {
      "text/plain": [
       "IterableDataset({\n",
       "    features: Unknown,\n",
       "    n_shards: 63\n",
       "})"
      ]
     },
     "execution_count": 18,
     "metadata": {},
     "output_type": "execute_result"
    }
   ],
   "source": [
    "dataset"
   ]
  },
  {
   "cell_type": "code",
   "execution_count": 22,
   "metadata": {},
   "outputs": [],
   "source": [
    "iterator = iter(dataset)\n",
    "row = next(iterator)"
   ]
  },
  {
   "cell_type": "code",
   "execution_count": 25,
   "metadata": {},
   "outputs": [
    {
     "name": "stdout",
     "output_type": "stream",
     "text": [
      "#coding utf-8\n",
      "'''\n",
      "斐波那契数列-循环法\n",
      "'''\n",
      "def Fib_circle():\n",
      "    while True:   # 去掉while循环，只用for循环\n",
      "        num_1 = 0\n",
      "        num_2 = 1\n",
      "        fib_array = [0] # 用于存储计算出的FB数列值\n",
      "        m = input('你想要查找的起始项：')\n",
      "        n = input('你想要查找的结束项：')\n",
      "        if m.isdigit() and n.isdigit():   # 在这个实现函数中，不要进行检验。每个函数只做一个事情\n",
      "            m = int(m) # 将输入化为整数型\n",
      "            n = int(n)\n",
      "            for i in range(n):\n",
      "                num_1, num_2 = num_2, num_1 + num_2\n",
      "                fib_array.append(num_1)\n",
      "            print(f'你要查找的数列为{list(enumerate(fib_array[m:], m))}')\n",
      "            break\n",
      "        else:\n",
      "            print('请输入有效的正整数')\n",
      "\n",
      "if __name__ == '__main__':\n",
      "    Fib_circle()\n",
      "\n"
     ]
    }
   ],
   "source": [
    "print(row[\"text\"])"
   ]
  },
  {
   "cell_type": "code",
   "execution_count": null,
   "metadata": {},
   "outputs": [],
   "source": []
  }
 ],
 "metadata": {
  "kernelspec": {
   "display_name": "venv",
   "language": "python",
   "name": "python3"
  },
  "language_info": {
   "codemirror_mode": {
    "name": "ipython",
    "version": 3
   },
   "file_extension": ".py",
   "mimetype": "text/x-python",
   "name": "python",
   "nbconvert_exporter": "python",
   "pygments_lexer": "ipython3",
   "version": "3.10.12"
  }
 },
 "nbformat": 4,
 "nbformat_minor": 2
}
